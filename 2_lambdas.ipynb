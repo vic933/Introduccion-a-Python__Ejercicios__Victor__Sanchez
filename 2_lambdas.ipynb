{
 "cells": [
  {
   "cell_type": "markdown",
   "id": "312324d8",
   "metadata": {},
   "source": [
    "🟨 Funciones Lambda en Python \n",
    "\n",
    "### ¿Qué es una función lambda?\n",
    "\n",
    "Una función lambda en Python es una forma abreviada de declarar funciones.\n",
    "\n",
    "También se conocen como funciones anónimas porque no tienen un nombre propio a menos que se asigne a una variable.\n",
    "\n",
    "Se usan cuando necesitas una función rápida, corta y de una sola línea.\n",
    "\n",
    "### Sintaxis general:\n",
    "\n",
    "```python\n",
    "\n",
    "lambda argumentos: expresión\n",
    "\n",
    "```\n",
    "## Ejemplo simple:"
   ]
  },
  {
   "cell_type": "code",
   "execution_count": null,
   "id": "aedc915d",
   "metadata": {},
   "outputs": [],
   "source": [
    "lambda x: x + 1"
   ]
  },
  {
   "cell_type": "markdown",
   "id": "aff81523",
   "metadata": {},
   "source": [
    "Esto representa una función que toma un argumento x y devuelve x + 1.\n",
    "\n",
    "### Equivalente a una funcion def:\n",
    "\n",
    "```python\n",
    "# Con def\n",
    "def cuadrado(x):\n",
    "    return x ** 2\n",
    "```    \n",
    "\n",
    "```python\n",
    "\n",
    "# Con lambda\n",
    "cuadrado = lambda x: x ** 2\n",
    "```\n",
    "\n",
    "---> Ambas hacen lo mismo, pero la versión lambda es más compacta <---\n",
    "\n",
    "### Ventajas de usar lambda\n",
    "\n",
    "| Ventaja                                                  | Descripción breve                                                |\n",
    "| -------------------------------------------------------- | ---------------------------------------------------------------- |\n",
    "| 🔹 Sintaxis corta                                        | Ideal para funciones simples sin definir toda una función        |\n",
    "| 🔹 Muy útil con funciones como `map`, `filter`, `sorted` | Permite escribir funciones en línea para manipular colecciones   |\n",
    "| 🔹 Código más limpio                                     | Se evita tener funciones `def` innecesarias para una sola línea  |\n",
    "| 🔹 Reutilizable dentro de estructuras                    | Puede usarse como parámetro sin contaminar el espacio de nombres |\n"
   ]
  },
  {
   "cell_type": "markdown",
   "id": "38864c90",
   "metadata": {},
   "source": [
    "### ⚠️ Consideraciones importantes:\n",
    "\n",
    "- Solo puede contener una expresión. No se pueden usar varias instrucciones ni bloques if, for, etc.\n",
    "\n",
    "- No puede tener nombre interno (aunque se puede asignar a una variable).\n",
    "\n",
    "- No debe usarse para lógica compleja. En ese caso, es mejor usar def.\n",
    "\n",
    "### 📌 ¿Cuándo usar lambda?\n",
    "\n",
    "- Usa lambda cuando:\n",
    "\n",
    "        Necesitas una función temporal, rápida y de una sola expresión\n",
    "\n",
    "        Quieres pasar una función como parámetro a otra (map, filter, sorted, etc.)\n",
    "\n",
    "        Estás trabajando con estructuras como listas, diccionarios, tuplas, y quieres aplicar lógica puntual\n",
    "\n",
    "- Evítala cuando:\n",
    "\n",
    "        Necesites más de una línea de código\n",
    "    \n",
    "        Quieras incluir condiciones complejas o excepciones\n",
    "\n"
   ]
  },
  {
   "cell_type": "markdown",
   "id": "a1ee16d6",
   "metadata": {},
   "source": [
    "### CUADRO EXPLICATIVO\n",
    "\n",
    "| Elemento       | Descripción                                        | Ejemplo                             |\n",
    "|----------------|----------------------------------------------------|--------------------------------------|\n",
    "| lambda         | Función anónima, sin `def`                         | `lambda x: x + 2`                   |\n",
    "| Argumentos     | Puede tener uno o más                              | `lambda x, y: x * y`                |\n",
    "| Retorno        | Devuelve el resultado de la única expresión        | Automático (no se usa `return`)     |\n",
    "| Uso habitual   | Con `map`, `filter`, `sorted`, etc.                | `map(lambda x: x+1, lista)`         |\n"
   ]
  },
  {
   "cell_type": "markdown",
   "id": "ad18bdb0",
   "metadata": {},
   "source": [
    "---\n",
    "### Vamos a ver algunos Ejemplos\n",
    "---"
   ]
  },
  {
   "cell_type": "markdown",
   "id": "1350345e",
   "metadata": {},
   "source": [
    "### Ejemplo 1: Asignar una lambda a una variable"
   ]
  },
  {
   "cell_type": "code",
   "execution_count": null,
   "id": "8764090b",
   "metadata": {},
   "outputs": [],
   "source": [
    "# Lambda que calcula el cuadrado de un número\n",
    "cuadrado = lambda x: x ** 2"
   ]
  },
  {
   "cell_type": "code",
   "execution_count": null,
   "id": "29402d52",
   "metadata": {},
   "outputs": [],
   "source": [
    "print(cuadrado(6))"
   ]
  },
  {
   "cell_type": "markdown",
   "id": "ff7a0c3b",
   "metadata": {},
   "source": [
    "### Ejemplo 2:  Ejemplo 2: Sumar tres valores"
   ]
  },
  {
   "cell_type": "code",
   "execution_count": null,
   "id": "0e8cddc0",
   "metadata": {},
   "outputs": [],
   "source": [
    "sumar = lambda a, b, c: a + b + c\n",
    "print(sumar(1, 2, 3))"
   ]
  },
  {
   "cell_type": "markdown",
   "id": "669c0679",
   "metadata": {},
   "source": [
    "### Ejemplo 3: Ordenar lista de tuplas por el segundo valor"
   ]
  },
  {
   "cell_type": "code",
   "execution_count": null,
   "id": "3737380f",
   "metadata": {},
   "outputs": [],
   "source": [
    "pares = [(1, 5), (3, 2), (2, 9)]"
   ]
  },
  {
   "cell_type": "code",
   "execution_count": null,
   "id": "bd0b0b0e",
   "metadata": {},
   "outputs": [],
   "source": [
    "pares.sort(key=lambda x: x[1]) #con el [1] le decimos que es por el segundo si quisiermos el primero seria [0]\n"
   ]
  },
  {
   "cell_type": "code",
   "execution_count": null,
   "id": "981c31fe",
   "metadata": {},
   "outputs": [],
   "source": [
    "pares"
   ]
  },
  {
   "cell_type": "markdown",
   "id": "292a8583",
   "metadata": {},
   "source": [
    "### Ejemplo 4: map( ) + lambda para transformar una lista"
   ]
  },
  {
   "cell_type": "code",
   "execution_count": null,
   "id": "9836337e",
   "metadata": {},
   "outputs": [],
   "source": [
    "nombres = [\"ana\", \"pedro\", \"maria\"]"
   ]
  },
  {
   "cell_type": "code",
   "execution_count": null,
   "id": "b13a3407",
   "metadata": {},
   "outputs": [],
   "source": [
    "mayusculas = list(map(lambda nombre: nombre.upper(), nombres))\n",
    "\n"
   ]
  },
  {
   "cell_type": "code",
   "execution_count": null,
   "id": "d6a022aa",
   "metadata": {},
   "outputs": [],
   "source": [
    "print(mayusculas) "
   ]
  },
  {
   "cell_type": "markdown",
   "id": "d5a4f312",
   "metadata": {},
   "source": [
    "### Ejemplo 5: filter( ) + lambda para filtrar pares"
   ]
  },
  {
   "cell_type": "code",
   "execution_count": null,
   "id": "ee828b62",
   "metadata": {},
   "outputs": [],
   "source": [
    "numeros = [1, 4, 7, 10, 13, 16]\n",
    "pares = list(filter(lambda x: x % 2 == 0, numeros))\n",
    "print(pares) "
   ]
  },
  {
   "cell_type": "markdown",
   "id": "125544af",
   "metadata": {},
   "source": [
    "### Ejemplo 6: sorted( ) + lambda con diccionarios"
   ]
  },
  {
   "cell_type": "code",
   "execution_count": null,
   "id": "c1c0318b",
   "metadata": {},
   "outputs": [],
   "source": [
    "personas = [\n",
    "    {\"nombre\": \"Luis\", \"edad\": 30},\n",
    "    {\"nombre\": \"Ana\", \"edad\": 22},\n",
    "    {\"nombre\": \"Carlos\", \"edad\": 40 , \"profesion\":\"Conductor\"},\n",
    "    {\"nombre\": \"Juan\", \"edad\": 15 , \"Altura\":\"1.82\"}\n",
    "]"
   ]
  },
  {
   "cell_type": "code",
   "execution_count": null,
   "id": "a23f0790",
   "metadata": {},
   "outputs": [],
   "source": [
    "ordenadas_edad = sorted(personas, key=lambda persona: persona[\"edad\"])\n",
    "print(ordenadas_edad)\n"
   ]
  },
  {
   "cell_type": "code",
   "execution_count": null,
   "id": "54d8a09e",
   "metadata": {},
   "outputs": [],
   "source": [
    "ordenadas_nombre = sorted(personas, key=lambda persona: persona[\"nombre\"])\n",
    "print(ordenadas_nombre)"
   ]
  },
  {
   "cell_type": "markdown",
   "id": "dc426df3",
   "metadata": {},
   "source": [
    "### Ejemplo 7: Condicional simple con lambda para definir si un numero es par o impar"
   ]
  },
  {
   "cell_type": "code",
   "execution_count": null,
   "id": "a1904115",
   "metadata": {},
   "outputs": [],
   "source": [
    "par_o_impar = lambda x: \"par\" if x % 2 == 0 else \"impar\""
   ]
  },
  {
   "cell_type": "code",
   "execution_count": null,
   "id": "101aaaa1",
   "metadata": {},
   "outputs": [],
   "source": [
    "par_o_impar(20)"
   ]
  },
  {
   "cell_type": "code",
   "execution_count": null,
   "id": "46402276",
   "metadata": {},
   "outputs": [],
   "source": [
    "par_o_impar(5)"
   ]
  },
  {
   "cell_type": "markdown",
   "id": "5dea9e82",
   "metadata": {},
   "source": [
    "---\n",
    "### Ejercicios\n",
    "---"
   ]
  },
  {
   "cell_type": "markdown",
   "id": "37c84ac4",
   "metadata": {},
   "source": [
    "### 🧪 Ejercicio 1: ¡Al cubo!\n",
    "\n",
    "Crea una función `lambda` que calcule el **cubo de un número** (es decir, elevarlo a la tercera potencia).  \n",
    "Prueba la función con los números: 2, 3 y 5."
   ]
  },
  {
   "cell_type": "code",
   "execution_count": null,
   "id": "64d021af",
   "metadata": {},
   "outputs": [],
   "source": []
  },
  {
   "cell_type": "code",
   "execution_count": null,
   "id": "683efc75",
   "metadata": {},
   "outputs": [],
   "source": []
  },
  {
   "cell_type": "code",
   "execution_count": null,
   "id": "0c69013a",
   "metadata": {},
   "outputs": [],
   "source": []
  },
  {
   "cell_type": "code",
   "execution_count": null,
   "id": "179ab8a9",
   "metadata": {},
   "outputs": [],
   "source": []
  },
  {
   "cell_type": "markdown",
   "id": "81a4db72",
   "metadata": {},
   "source": [
    "### 🧪 Ejercicio 2: ¿Mayor de edad?\n",
    "\n",
    "Crea una función `lambda` que reciba una edad y devuelva:\n",
    "\n",
    "- `\"Mayor de edad\"` si es 18 o más\n",
    "- `\"Menor de edad\"` si es menor\n",
    "\n",
    "Prueba la función con los valores: 15, 18, 21."
   ]
  },
  {
   "cell_type": "code",
   "execution_count": null,
   "id": "bf877b47",
   "metadata": {},
   "outputs": [],
   "source": []
  },
  {
   "cell_type": "code",
   "execution_count": null,
   "id": "d3312b2e",
   "metadata": {},
   "outputs": [],
   "source": []
  },
  {
   "cell_type": "code",
   "execution_count": null,
   "id": "4cc667ff",
   "metadata": {},
   "outputs": [],
   "source": []
  },
  {
   "cell_type": "code",
   "execution_count": null,
   "id": "cdfe8961",
   "metadata": {},
   "outputs": [],
   "source": []
  },
  {
   "cell_type": "markdown",
   "id": "9d2281e4",
   "metadata": {},
   "source": [
    "### 🧪 Ejercicio 3: Filtro de palabras largas\n",
    "\n",
    "Dada una lista de palabras, usa `filter()` junto con una función `lambda` para quedarte solo con las palabras de **más de 6 letras**.\n",
    "\n",
    "```python\n",
    "palabras = [\"manzana\", \"sol\", \"universo\", \"azul\", \"electricidad\"]"
   ]
  },
  {
   "cell_type": "code",
   "execution_count": null,
   "id": "e72e2ea2",
   "metadata": {},
   "outputs": [],
   "source": [
    "palabras = [\"manzana\", \"sol\", \"universo\", \"azul\", \"electricidad\"]"
   ]
  },
  {
   "cell_type": "code",
   "execution_count": null,
   "id": "1efaf1b6",
   "metadata": {},
   "outputs": [],
   "source": []
  },
  {
   "cell_type": "markdown",
   "id": "bac55931",
   "metadata": {},
   "source": [
    "### 🧪 Ejercicio 4: Aumentar precios\n",
    "\n",
    "Tienes una lista de precios y necesitas **aumentarlos un 10%**. Usa `map()` junto con una `lambda` para generar la nueva lista de precios.\n",
    "\n",
    "```python\n",
    "precios = [100, 250, 80, 150]"
   ]
  },
  {
   "cell_type": "code",
   "execution_count": null,
   "id": "88edeed6",
   "metadata": {},
   "outputs": [],
   "source": [
    "precios = [100, 250, 80, 150]"
   ]
  },
  {
   "cell_type": "code",
   "execution_count": null,
   "id": "0067221f",
   "metadata": {},
   "outputs": [],
   "source": []
  },
  {
   "cell_type": "markdown",
   "id": "a512e3ba",
   "metadata": {},
   "source": [
    "### 🧪 Ejercicio 5: Ordenar por nombre invertido\n",
    "\n",
    "Tienes una lista de nombres y quieres ordenarlos **por su última letra** usando `sorted()` y una `lambda`.\n",
    "\n",
    "```python\n",
    "nombres = [\"Carlos\", \"Ana\", \"Raúl\", \"Sofía\", \"David\"]"
   ]
  },
  {
   "cell_type": "code",
   "execution_count": null,
   "id": "1437cdd9",
   "metadata": {},
   "outputs": [],
   "source": [
    "nombres = [\"Carlos\", \"Ana\", \"Raúl\", \"Sofía\", \"David\"]"
   ]
  },
  {
   "cell_type": "code",
   "execution_count": null,
   "id": "9e8d937a",
   "metadata": {},
   "outputs": [],
   "source": []
  },
  {
   "cell_type": "code",
   "execution_count": null,
   "id": "bd6a9a26",
   "metadata": {},
   "outputs": [],
   "source": []
  }
 ],
 "metadata": {
  "kernelspec": {
   "display_name": "Python 3",
   "language": "python",
   "name": "python3"
  },
  "language_info": {
   "codemirror_mode": {
    "name": "ipython",
    "version": 3
   },
   "file_extension": ".py",
   "mimetype": "text/x-python",
   "name": "python",
   "nbconvert_exporter": "python",
   "pygments_lexer": "ipython3",
   "version": "3.12.0"
  }
 },
 "nbformat": 4,
 "nbformat_minor": 5
}
